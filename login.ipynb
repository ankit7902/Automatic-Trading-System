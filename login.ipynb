{
 "cells": [
  {
   "cell_type": "code",
   "execution_count": 42,
   "metadata": {},
   "outputs": [
    {
     "data": {
      "text/plain": [
       "'https://www.google.com/?s=ok&code=200&auth_code=eyJ0eXAiOiJKV1QiLCJhbGciOiJIUzI1NiJ9.eyJpc3MiOiJhcGkubG9naW4uZnllcnMuaW4iLCJpYXQiOjE3MTMxNjI1MTgsImV4cCI6MTcxMzE5MjUxOCwibmJmIjoxNzEzMTYxOTE4LCJhdWQiOiJbXCJ4OjBcIiwgXCJ4OjFcIiwgXCJ4OjJcIiwgXCJkOjFcIiwgXCJkOjJcIiwgXCJ4OjFcIiwgXCJ4OjBcIl0iLCJzdWIiOiJhdXRoX2NvZGUiLCJkaXNwbGF5X25hbWUiOiJZWTAxMjMwIiwib21zIjoiSzEiLCJoc21fa2V5IjoiZmFiMjJjZDE2MWRlNjkwZDk1MjRmNWE5NzhjOTVlMDZjMTcyZGZjYTRiZDI4MTQ1MTVjMDg1MzgiLCJub25jZSI6IiIsImFwcF9pZCI6Ik1ZUjlVOEhFSFUiLCJ1dWlkIjoiZmUxMTdjZjBmZDI2NGEyMTlhNzQ1ZGQ3ZWU2NzhjYmMiLCJpcEFkZHIiOiIwLjAuMC4wIiwic2NvcGUiOiIifQ.bz6ANzODSRNxBILoUF7UNxSwYuqIXJAPCiBPYXF9pLU&state=None'"
      ]
     },
     "execution_count": 42,
     "metadata": {},
     "output_type": "execute_result"
    }
   ],
   "source": [
    "uri='https://www.google.com/?s=ok&code=200&auth_code=eyJ0eXAiOiJKV1QiLCJhbGciOiJIUzI1NiJ9.eyJpc3MiOiJhcGkubG9naW4uZnllcnMuaW4iLCJpYXQiOjE3MTMxNjI1MTgsImV4cCI6MTcxMzE5MjUxOCwibmJmIjoxNzEzMTYxOTE4LCJhdWQiOiJbXCJ4OjBcIiwgXCJ4OjFcIiwgXCJ4OjJcIiwgXCJkOjFcIiwgXCJkOjJcIiwgXCJ4OjFcIiwgXCJ4OjBcIl0iLCJzdWIiOiJhdXRoX2NvZGUiLCJkaXNwbGF5X25hbWUiOiJZWTAxMjMwIiwib21zIjoiSzEiLCJoc21fa2V5IjoiZmFiMjJjZDE2MWRlNjkwZDk1MjRmNWE5NzhjOTVlMDZjMTcyZGZjYTRiZDI4MTQ1MTVjMDg1MzgiLCJub25jZSI6IiIsImFwcF9pZCI6Ik1ZUjlVOEhFSFUiLCJ1dWlkIjoiZmUxMTdjZjBmZDI2NGEyMTlhNzQ1ZGQ3ZWU2NzhjYmMiLCJpcEFkZHIiOiIwLjAuMC4wIiwic2NvcGUiOiIifQ.bz6ANzODSRNxBILoUF7UNxSwYuqIXJAPCiBPYXF9pLU&state=None'\n",
    "uri"
   ]
  },
  {
   "cell_type": "code",
   "execution_count": 43,
   "metadata": {},
   "outputs": [],
   "source": [
    "s1=uri.split('auth_code=')\n",
    "auth=s1[1].split('&state')[0]"
   ]
  },
  {
   "cell_type": "code",
   "execution_count": 44,
   "metadata": {},
   "outputs": [
    {
     "data": {
      "text/plain": [
       "'eyJ0eXAiOiJKV1QiLCJhbGciOiJIUzI1NiJ9.eyJpc3MiOiJhcGkubG9naW4uZnllcnMuaW4iLCJpYXQiOjE3MTMxNjI1MTgsImV4cCI6MTcxMzE5MjUxOCwibmJmIjoxNzEzMTYxOTE4LCJhdWQiOiJbXCJ4OjBcIiwgXCJ4OjFcIiwgXCJ4OjJcIiwgXCJkOjFcIiwgXCJkOjJcIiwgXCJ4OjFcIiwgXCJ4OjBcIl0iLCJzdWIiOiJhdXRoX2NvZGUiLCJkaXNwbGF5X25hbWUiOiJZWTAxMjMwIiwib21zIjoiSzEiLCJoc21fa2V5IjoiZmFiMjJjZDE2MWRlNjkwZDk1MjRmNWE5NzhjOTVlMDZjMTcyZGZjYTRiZDI4MTQ1MTVjMDg1MzgiLCJub25jZSI6IiIsImFwcF9pZCI6Ik1ZUjlVOEhFSFUiLCJ1dWlkIjoiZmUxMTdjZjBmZDI2NGEyMTlhNzQ1ZGQ3ZWU2NzhjYmMiLCJpcEFkZHIiOiIwLjAuMC4wIiwic2NvcGUiOiIifQ.bz6ANzODSRNxBILoUF7UNxSwYuqIXJAPCiBPYXF9pLU'"
      ]
     },
     "execution_count": 44,
     "metadata": {},
     "output_type": "execute_result"
    }
   ],
   "source": [
    "auth"
   ]
  },
  {
   "cell_type": "code",
   "execution_count": 47,
   "metadata": {},
   "outputs": [
    {
     "name": "stdout",
     "output_type": "stream",
     "text": [
      "{'s': 'error', 'code': -8, 'message': 'Your token has expired. Please generate a token'}\n"
     ]
    }
   ],
   "source": [
    "# Import the required module from the fyers_apiv3 package\n",
    "from fyers_apiv3 import fyersModel\n",
    "\n",
    "# Define your Fyers API credentials\n",
    "client_id = 'MYR9U8HEHU-100'\n",
    "secret_key = 'CUNS5MK0CO'\n",
    "redirect_uri='https://www.google.com/' \n",
    " \n",
    "response_type = \"code\" \n",
    "grant_type = \"authorization_code\"  \n",
    "\n",
    "# The authorization code received from Fyers after the user grants access\n",
    "auth_code = auth\n",
    "# Create a session object to handle the Fyers API authentication and token generation\n",
    "session = fyersModel.SessionModel(\n",
    "    client_id=client_id,\n",
    "    secret_key=secret_key, \n",
    "    redirect_uri=redirect_uri, \n",
    "    response_type=response_type, \n",
    "    grant_type=grant_type\n",
    ")\n",
    "\n",
    "# Set the authorization code in the session object\n",
    "session.set_token(auth_code)\n",
    "\n",
    "# Generate the access token using the authorization code\n",
    "response = session.generate_token()\n",
    "\n",
    "# Print the response, which should contain the access token and other details\n",
    "print(response)\n"
   ]
  },
  {
   "cell_type": "code",
   "execution_count": 49,
   "metadata": {},
   "outputs": [
    {
     "ename": "KeyError",
     "evalue": "'access_token'",
     "output_type": "error",
     "traceback": [
      "\u001b[1;31m---------------------------------------------------------------------------\u001b[0m",
      "\u001b[1;31mKeyError\u001b[0m                                  Traceback (most recent call last)",
      "Cell \u001b[1;32mIn[49], line 1\u001b[0m\n\u001b[1;32m----> 1\u001b[0m access_token \u001b[38;5;241m=\u001b[39m \u001b[43mresponse\u001b[49m\u001b[43m[\u001b[49m\u001b[38;5;124;43m'\u001b[39;49m\u001b[38;5;124;43maccess_token\u001b[39;49m\u001b[38;5;124;43m'\u001b[39;49m\u001b[43m]\u001b[49m\n",
      "\u001b[1;31mKeyError\u001b[0m: 'access_token'"
     ]
    }
   ],
   "source": [
    "access_token = response['access_token']\n"
   ]
  },
  {
   "cell_type": "code",
   "execution_count": null,
   "metadata": {},
   "outputs": [
    {
     "ename": "NameError",
     "evalue": "name 'generate_token' is not defined",
     "output_type": "error",
     "traceback": [
      "\u001b[1;31m---------------------------------------------------------------------------\u001b[0m",
      "\u001b[1;31mNameError\u001b[0m                                 Traceback (most recent call last)",
      "Cell \u001b[1;32mIn[16], line 1\u001b[0m\n\u001b[1;32m----> 1\u001b[0m \u001b[43mgenerate_token\u001b[49m\n",
      "\u001b[1;31mNameError\u001b[0m: name 'generate_token' is not defined"
     ]
    }
   ],
   "source": [
    "access_token"
   ]
  },
  {
   "cell_type": "code",
   "execution_count": null,
   "metadata": {},
   "outputs": [
    {
     "ename": "NameError",
     "evalue": "name 'access_token' is not defined",
     "output_type": "error",
     "traceback": [
      "\u001b[1;31m---------------------------------------------------------------------------\u001b[0m",
      "\u001b[1;31mNameError\u001b[0m                                 Traceback (most recent call last)",
      "Cell \u001b[1;32mIn[23], line 1\u001b[0m\n\u001b[1;32m----> 1\u001b[0m fyers \u001b[38;5;241m=\u001b[39m fyersModel\u001b[38;5;241m.\u001b[39mFyersModel(client_id\u001b[38;5;241m=\u001b[39mclient_id, token\u001b[38;5;241m=\u001b[39m\u001b[43maccess_token\u001b[49m,is_async\u001b[38;5;241m=\u001b[39m\u001b[38;5;28;01mFalse\u001b[39;00m, log_path\u001b[38;5;241m=\u001b[39m\u001b[38;5;124m\"\u001b[39m\u001b[38;5;124m\"\u001b[39m)\n\u001b[0;32m      3\u001b[0m response \u001b[38;5;241m=\u001b[39m fyers\u001b[38;5;241m.\u001b[39mholdings()\n\u001b[0;32m      4\u001b[0m \u001b[38;5;28mprint\u001b[39m(response)\n",
      "\u001b[1;31mNameError\u001b[0m: name 'access_token' is not defined"
     ]
    }
   ],
   "source": [
    "fyers = fyersModel.FyersModel(client_id=client_id, token=access_token,is_async=False, log_path=\"\")\n",
    "\n",
    "response = fyers.holdings()\n",
    "print(response)"
   ]
  }
 ],
 "metadata": {
  "kernelspec": {
   "display_name": "fyersv3",
   "language": "python",
   "name": "python3"
  },
  "language_info": {
   "codemirror_mode": {
    "name": "ipython",
    "version": 3
   },
   "file_extension": ".py",
   "mimetype": "text/x-python",
   "name": "python",
   "nbconvert_exporter": "python",
   "pygments_lexer": "ipython3",
   "version": "3.12.3"
  }
 },
 "nbformat": 4,
 "nbformat_minor": 2
}
